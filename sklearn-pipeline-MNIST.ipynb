{
 "cells": [
  {
   "cell_type": "code",
   "execution_count": 75,
   "metadata": {},
   "outputs": [],
   "source": [
    "%matplotlib inline\n",
    "import matplotlib.pyplot as plt\n",
    "import sklearn.datasets as sd\n",
    "import sklearn.model_selection as ms\n",
    "import scipy.linalg as sl\n",
    "import numpy as np\n",
    "import PIL\n",
    "np.set_printoptions(linewidth=120)"
   ]
  },
  {
   "cell_type": "markdown",
   "metadata": {},
   "source": [
    "# Load MNIST data\n",
    "Each image is represented by a 28 by 28 array of unsigned ints (0-255)"
   ]
  },
  {
   "cell_type": "code",
   "execution_count": 77,
   "metadata": {},
   "outputs": [],
   "source": [
    "mnist = sd.fetch_mldata(\"MNIST original\")\n",
    "data, target = mnist.data, mnist.target\n"
   ]
  },
  {
   "cell_type": "markdown",
   "metadata": {},
   "source": [
    "split data in to training set (60,000 observations) and testing set (10,000)"
   ]
  },
  {
   "cell_type": "code",
   "execution_count": 5,
   "metadata": {},
   "outputs": [],
   "source": [
    "data_train, data_test, target_train, target_test = ms.train_test_split(data, target, train_size=60000, \n",
    "                                                                       test_size=10000, stratify=target)"
   ]
  },
  {
   "cell_type": "markdown",
   "metadata": {},
   "source": [
    "## Display a few sample digits"
   ]
  },
  {
   "cell_type": "code",
   "execution_count": 101,
   "metadata": {},
   "outputs": [
    {
     "data": {
      "image/png": "[encoded data removed]",
      "text/plain": [
       "<Figure size 576x576 with 9 Axes>"
      ]
     },
     "metadata": {},
     "output_type": "display_data"
    }
   ],
   "source": [
    "fig, axes = plt.subplots(3, 3, figsize=(8,8))\n",
    "sample_images = [ 7755, 42305, 49375, 61836, 54994, 62744, 2794, 33349, 41573 ]\n",
    "for i in range(3):\n",
    "    for j in range(3):\n",
    "        index = sample_images[i*3 + j]\n",
    "        img = data[index].reshape(28, 28)\n",
    "        ax = axes[i][j]\n",
    "        ax.imshow(img, cmap=plt.cm.gray_r)\n",
    "        ax.set_title('image {}'.format(index))\n",
    "        "
   ]
  },
  {
   "cell_type": "markdown",
   "metadata": {},
   "source": [
    "## Test a simple model\n",
    "We'll use a gradient descent classifier here because of its speed, eventhough there are models that perform better for classification."
   ]
  },
  {
   "cell_type": "code",
   "execution_count": 114,
   "metadata": {},
   "outputs": [],
   "source": [
    "from sklearn.linear_model import SGDClassifier\n",
    "clf = SGDClassifier()"
   ]
  },
  {
   "cell_type": "code",
   "execution_count": 115,
   "metadata": {},
   "outputs": [
    {
     "name": "stderr",
     "output_type": "stream",
     "text": [
      "/anaconda3/envs/notebook/lib/python3.6/site-packages/sklearn/linear_model/stochastic_gradient.py:128: FutureWarning: max_iter and tol parameters have been added in <class 'sklearn.linear_model.stochastic_gradient.SGDClassifier'> in 0.19. If both are left unset, they default to max_iter=5 and tol=None. If tol is not None, max_iter defaults to max_iter=1000. From 0.21, default max_iter will be 1000, and default tol will be 1e-3.\n",
      "  \"and default tol will be 1e-3.\" % type(self), FutureWarning)\n"
     ]
    },
    {
     "data": {
      "text/plain": [
       "SGDClassifier(alpha=0.0001, average=False, class_weight=None, epsilon=0.1,\n",
       "       eta0=0.0, fit_intercept=True, l1_ratio=0.15,\n",
       "       learning_rate='optimal', loss='hinge', max_iter=None, n_iter=None,\n",
       "       n_jobs=1, penalty='l2', power_t=0.5, random_state=None,\n",
       "       shuffle=True, tol=None, verbose=0, warm_start=False)"
      ]
     },
     "execution_count": 115,
     "metadata": {},
     "output_type": "execute_result"
    }
   ],
   "source": [
    "clf.fit(data_train, target_train)"
   ]
  },
  {
   "cell_type": "code",
   "execution_count": 116,
   "metadata": {},
   "outputs": [
    {
     "data": {
      "text/plain": [
       "0.8862"
      ]
     },
     "execution_count": 116,
     "metadata": {},
     "output_type": "execute_result"
    }
   ],
   "source": [
    "clf.score(data_test, target_test)"
   ]
  },
  {
   "cell_type": "code",
   "execution_count": 117,
   "metadata": {},
   "outputs": [
    {
     "data": {
      "text/plain": [
       "0.8971666666666667"
      ]
     },
     "execution_count": 117,
     "metadata": {},
     "output_type": "execute_result"
    }
   ],
   "source": [
    "clf.score(data_train, target_train)"
   ]
  },
  {
   "cell_type": "markdown",
   "metadata": {},
   "source": [
    "# Preprocessing\n",
    "## Deskew image\n",
    "First, we'll write a function for finding the bounding box of each image"
   ]
  },
  {
   "cell_type": "code",
   "execution_count": 97,
   "metadata": {},
   "outputs": [],
   "source": [
    "def find_bbox(img):\n",
    "    \"\"\"\n",
    "    Finding bounding box of image\n",
    "    \n",
    "    Returns:\n",
    "    min_col, max_col, min_row, max_row\n",
    "    \n",
    "    \"\"\"\n",
    "    img = img.astype(float)\n",
    "    cols = np.any(img, axis=0)\n",
    "    rows = np.any(img, axis=1)\n",
    "    \n",
    "    min_col, max_col = np.where(cols)[0][[0, -1]]\n",
    "    min_row, max_row = np.where(rows)[0][[0, -1]]\n",
    "    \n",
    "    return min_col, max_col, min_row, max_row\n",
    "\n",
    "def plot_bbox(img, ax=None):\n",
    "    \"\"\"\n",
    "    Plot bounding box for an image\n",
    "    \"\"\"\n",
    "    if not ax:\n",
    "        fig, ax = plt.subplots()\n",
    "\n",
    "    min_col, max_col, min_row, max_row = find_bbox(img)\n",
    "    ax.imshow(img, cmap=plt.cm.gray_r)\n",
    "   \n",
    "    ax.axvline(min_col, color='r')\n",
    "    ax.axvline(max_col, color='r')\n",
    "    ax.axhline(min_row, color='r')\n",
    "    ax.axhline(max_row, color='r')\n",
    "\n",
    "    return ax\n",
    "    "
   ]
  },
  {
   "cell_type": "markdown",
   "metadata": {},
   "source": [
    "Test out bounding box on samples images from earlier.  Note that imshow() draws pixels cetered at given coordinates, so bounding boxes appear to overlap with digits, but that's fine for our purpose."
   ]
  },
  {
   "cell_type": "code",
   "execution_count": 100,
   "metadata": {},
   "outputs": [
    {
     "data": {
      "image/png": "[encoded data removed]",
      "text/plain": [
       "<Figure size 576x576 with 9 Axes>"
      ]
     },
     "metadata": {},
     "output_type": "display_data"
    }
   ],
   "source": [
    "fig, axes = plt.subplots(3, 3, figsize=(8,8))\n",
    "sample_images = [ 7755, 42305, 49375, 61836, 54994, 62744, 2794, 33349, 41573 ]\n",
    "for i in range(3):\n",
    "    for j in range(3):\n",
    "        index = sample_images[i*3 + j]\n",
    "        img = data[index].reshape(28, 28)\n",
    "        ax = axes[i][j]\n",
    "        plot_bbox(img, ax=ax)\n",
    "        ax.set_title('image {}'.format(index))\n"
   ]
  },
  {
   "cell_type": "markdown",
   "metadata": {},
   "source": [
    "Now try to determine if an image is rotated.  There are many fancy ways of trying to determine if an image is skewed (eg, https://en.wikipedia.org/wiki/Image_moment#Raw_moments).  Here, we'll keep things simple and look for a rotation that yields a bounding box with the max height to width ratio."
   ]
  },
  {
   "cell_type": "code",
   "execution_count": 120,
   "metadata": {},
   "outputs": [],
   "source": [
    "def find_bbox_dimensions(img):\n",
    "    \"\"\"\n",
    "    Return bbox dimensions for image\n",
    "    \n",
    "    Returns\n",
    "    height, width\n",
    "    \n",
    "    \"\"\"\n",
    "    min_col, max_col, min_row, max_row = find_bbox(img)\n",
    "    height = max_row - min_row\n",
    "    width = max_col - min_col\n",
    "    \n",
    "    return height, width\n",
    "\n",
    "def rotate_image(img, angle=0):\n",
    "    \"\"\"\n",
    "    Rotate image by angle\n",
    "    \n",
    "    \"\"\"\n",
    "    if angle == 0:\n",
    "        return img\n",
    "    \n",
    "    pimg = PIL.Image.fromarray(img)\n",
    "    pimg = pimg.rotate(angle, resample=PIL.Image.BILINEAR)\n",
    "    img = np.array(pimg)\n",
    "\n",
    "    return img\n",
    "        \n",
    "def find_best_bbox_angle(img, min_angle=-45, max_angle=45, angle_step=5):\n",
    "    \"\"\"\n",
    "    Find angle that results in a bbox with the highest height to width ratio\n",
    "    \n",
    "    \"\"\"\n",
    "    res = dict()\n",
    "    for angle in range(min_angle, max_angle + angle_step, angle_step):\n",
    "        rotated = rotate_image(img, angle)\n",
    "        height, width = find_bbox_dimensions(rotated)\n",
    "        res[angle] = height / width\n",
    "    \n",
    "    best_angle = max(res, key=res.get)\n",
    "    \n",
    "    # don't bother rotating if best angle is not much better than no rotation\n",
    "    if (res[best_angle] / res[0]) < 1.1:\n",
    "        best_angle = 0\n",
    "\n",
    "    return best_angle\n",
    "\n",
    "def deskew_image(img):\n",
    "    \"\"\"\n",
    "    Deskew an image by finding angle that maximizes image's height to width ratio\n",
    "    \"\"\"\n",
    "    best_angle = find_best_bbox_angle(img)\n",
    "    deskewed_image = rotate_image(img, best_angle)\n",
    "    \n",
    "    return deskewed_image\n"
   ]
  },
  {
   "cell_type": "markdown",
   "metadata": {},
   "source": [
    "Now let's see sample images look after we \"deskew\" them"
   ]
  },
  {
   "cell_type": "code",
   "execution_count": 121,
   "metadata": {},
   "outputs": [
    {
     "data": {
      "image/png": "[encoded data removed]",
      "text/plain": [
       "<Figure size 576x576 with 9 Axes>"
      ]
     },
     "metadata": {},
     "output_type": "display_data"
    }
   ],
   "source": [
    "fig, axes = plt.subplots(3, 3, figsize=(8,8))\n",
    "sample_images = [ 7755, 42305, 49375, 61836, 54994, 62744, 2794, 33349, 41573 ]\n",
    "for i in range(3):\n",
    "    for j in range(3):\n",
    "        ax = axes[i][j]\n",
    "        index = sample_images[i*3 + j]\n",
    "        img = data[index].reshape(28, 28)\n",
    "\n",
    "        plot_bbox(deskew_image(img), ax=ax)\n",
    "        ax.set_title('image {}'.format(index))"
   ]
  },
  {
   "cell_type": "code",
   "execution_count": null,
   "metadata": {},
   "outputs": [],
   "source": [
    "preprocessed_train = [ center_bbox(deskew_image(img.reshape(28,28))).reshape(-1) for img in data_train ]\n",
    "preprocessed_test =  [ center_bbox(deskew_image(img.reshape(28,28))).reshape(-1) for img in data_test ]"
   ]
  },
  {
   "cell_type": "code",
   "execution_count": 128,
   "metadata": {},
   "outputs": [
    {
     "name": "stderr",
     "output_type": "stream",
     "text": [
      "/anaconda3/envs/notebook/lib/python3.6/site-packages/sklearn/linear_model/stochastic_gradient.py:128: FutureWarning: max_iter and tol parameters have been added in <class 'sklearn.linear_model.stochastic_gradient.SGDClassifier'> in 0.19. If both are left unset, they default to max_iter=5 and tol=None. If tol is not None, max_iter defaults to max_iter=1000. From 0.21, default max_iter will be 1000, and default tol will be 1e-3.\n",
      "  \"and default tol will be 1e-3.\" % type(self), FutureWarning)\n"
     ]
    },
    {
     "data": {
      "text/plain": [
       "0.8419"
      ]
     },
     "execution_count": 128,
     "metadata": {},
     "output_type": "execute_result"
    }
   ],
   "source": [
    "clf.fit(preprocessed_train, target_train)\n",
    "clf.score(preprocessed_test, target_test)\n"
   ]
  },
  {
   "cell_type": "code",
   "execution_count": 129,
   "metadata": {},
   "outputs": [],
   "source": [
    "predict_train = clf.predict(preprocessed_train)"
   ]
  },
  {
   "cell_type": "code",
   "execution_count": 138,
   "metadata": {},
   "outputs": [
    {
     "name": "stdout",
     "output_type": "stream",
     "text": [
      "9.0\n"
     ]
    },
    {
     "data": {
      "text/plain": [
       "7.0"
      ]
     },
     "execution_count": 138,
     "metadata": {},
     "output_type": "execute_result"
    }
   ],
   "source": [
    "errors_train = np.where(predict_train != target_train)[0]\n",
    "len(errors_train)\n",
    "print(target_train[errors_train[0]])\n",
    "predict_train[errors_train[0]]"
   ]
  },
  {
   "cell_type": "code",
   "execution_count": 153,
   "metadata": {},
   "outputs": [
    {
     "data": {
      "text/plain": [
       "<matplotlib.axes._subplots.AxesSubplot at 0x1a28025d30>"
      ]
     },
     "execution_count": 153,
     "metadata": {},
     "output_type": "execute_result"
    },
    {
     "data": {
      "image/png": "[encoded data removed]",
      "text/plain": [
       "<Figure size 432x288 with 1 Axes>"
      ]
     },
     "metadata": {},
     "output_type": "display_data"
    }
   ],
   "source": [
    "img = preprocessed_train[errors_train[0]].reshape(28, 28)\n",
    "plot_bbox(img)"
   ]
  },
  {
   "cell_type": "markdown",
   "metadata": {},
   "source": [
    "## Recenter image based on bounding box"
   ]
  },
  {
   "cell_type": "code",
   "execution_count": 154,
   "metadata": {},
   "outputs": [],
   "source": [
    "find_bbox_dimensions(img)\n",
    "\n",
    "def center_bbox(img, desired_height=28, desired_width=28):\n",
    "    \"\"\"\n",
    "    Center an image's bbox\n",
    "    \n",
    "    \"\"\"\n",
    "    min_col, max_col, min_row, max_row = find_bbox(img)\n",
    "    height = max_row - min_row\n",
    "    width = max_col - min_col\n",
    "    \n",
    "    new_image = np.zeros((desired_height, desired_width))\n",
    "    top = int(np.floor((desired_height - height) / 2))\n",
    "    left = int(np.floor((desired_width - width) / 2))\n",
    "    new_image[top:top+height, left:left+width] = img[min_row:max_row, min_col:max_col]\n",
    "    \n",
    "    return new_image\n",
    "    "
   ]
  },
  {
   "cell_type": "code",
   "execution_count": 150,
   "metadata": {},
   "outputs": [
    {
     "name": "stdout",
     "output_type": "stream",
     "text": [
      "2\n",
      "4\n"
     ]
    },
    {
     "data": {
      "text/plain": [
       "array([7.])"
      ]
     },
     "execution_count": 150,
     "metadata": {},
     "output_type": "execute_result"
    }
   ],
   "source": [
    "clf.predict(center_bbox(img).reshape(1, -1))"
   ]
  },
  {
   "cell_type": "markdown",
   "metadata": {},
   "source": [
    "# Data augmentation"
   ]
  },
  {
   "cell_type": "code",
   "execution_count": null,
   "metadata": {},
   "outputs": [],
   "source": [
    "import PIL"
   ]
  },
  {
   "cell_type": "code",
   "execution_count": null,
   "metadata": {},
   "outputs": [],
   "source": [
    "sample = data_train[34222].reshape(28, 28)\n",
    "img = PIL.Image.fromarray(sample)\n",
    "plt.imshow(img)"
   ]
  },
  {
   "cell_type": "code",
   "execution_count": null,
   "metadata": {},
   "outputs": [],
   "source": [
    "plt.imshow(sample)"
   ]
  },
  {
   "cell_type": "code",
   "execution_count": null,
   "metadata": {},
   "outputs": [],
   "source": []
  },
  {
   "cell_type": "code",
   "execution_count": null,
   "metadata": {},
   "outputs": [],
   "source": []
  },
  {
   "cell_type": "code",
   "execution_count": null,
   "metadata": {},
   "outputs": [],
   "source": [
    "angle = determine_image_skew(sample)\n",
    "angle"
   ]
  },
  {
   "cell_type": "code",
   "execution_count": null,
   "metadata": {},
   "outputs": [],
   "source": [
    "angle"
   ]
  },
  {
   "cell_type": "code",
   "execution_count": null,
   "metadata": {},
   "outputs": [],
   "source": [
    "plt.imshow(sample)\n"
   ]
  },
  {
   "cell_type": "code",
   "execution_count": null,
   "metadata": {},
   "outputs": [],
   "source": [
    "plt.imshow(deskew_image(deskew_image(sample)))"
   ]
  },
  {
   "cell_type": "code",
   "execution_count": null,
   "metadata": {},
   "outputs": [],
   "source": []
  },
  {
   "cell_type": "code",
   "execution_count": null,
   "metadata": {},
   "outputs": [],
   "source": []
  }
 ],
 "metadata": {
  "kernelspec": {
   "display_name": "Python [conda env:notebook]",
   "language": "python",
   "name": "conda-env-notebook-py"
  },
  "language_info": {
   "codemirror_mode": {
    "name": "ipython",
    "version": 3
   },
   "file_extension": ".py",
   "mimetype": "text/x-python",
   "name": "python",
   "nbconvert_exporter": "python",
   "pygments_lexer": "ipython3",
   "version": "3.6.5"
  }
 },
 "nbformat": 4,
 "nbformat_minor": 2
}
