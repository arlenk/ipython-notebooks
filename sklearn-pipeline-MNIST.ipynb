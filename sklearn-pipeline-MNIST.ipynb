{
 "cells": [
  {
   "cell_type": "code",
   "execution_count": 25,
   "metadata": {},
   "outputs": [],
   "source": [
    "%matplotlib inline\n",
    "import matplotlib.pyplot as plt\n",
    "import sklearn.datasets as sd\n",
    "import sklearn.model_selection as ms\n",
    "import scipy.linalg as sl\n",
    "import numpy as np\n",
    "import PIL\n"
   ]
  },
  {
   "cell_type": "markdown",
   "metadata": {},
   "source": [
    "# Load MNIST data\n",
    "Each image is represented by a 28 by 28 array of unsigned ints (0-255)"
   ]
  },
  {
   "cell_type": "code",
   "execution_count": 4,
   "metadata": {},
   "outputs": [
    {
     "data": {
      "text/plain": [
       "array([[  0,   0,   0,   0,   0,   0,   0,   0,   0,   0,   0,   0,   0,\n",
       "          0,   0,   0,   0,   0,   0,   0,   0,   0,   0,   0,   0,   0,\n",
       "          0,   0],\n",
       "       [  0,   0,   0,   0,   0,   0,   0,   0,   0,   0,   0,   0,   0,\n",
       "          0,   0,   0,   0,   0,   0,   0,   0,   0,   0,   0,   0,   0,\n",
       "          0,   0],\n",
       "       [  0,   0,   0,   0,   0,   0,   0,   0,   0,   0,   0,   0,   0,\n",
       "          0,   0,   0,   0,   0,   0,   0,   0,   0,   0,   0,   0,   0,\n",
       "          0,   0],\n",
       "       [  0,   0,   0,   0,   0,   0,   0,   0,   0,   0,   0,   0,   0,\n",
       "          0,   0,   0,   0,   0,   0,   0,   0,   0,   0,   0,   0,   0,\n",
       "          0,   0],\n",
       "       [  0,   0,   0,   0,   0,   0,   0,   0,   0,   0,   0,   0,   0,\n",
       "          0,   0,  73, 253, 227,  73,  21,   0,   0,   0,   0,   0,   0,\n",
       "          0,   0],\n",
       "       [  0,   0,   0,   0,   0,   0,   0,   0,   0,   0,   0,   0,   0,\n",
       "          0,   0,  73, 251, 251, 251, 174,   0,   0,   0,   0,   0,   0,\n",
       "          0,   0],\n",
       "       [  0,   0,   0,   0,   0,   0,   0,   0,   0,   0,   0,   0,   0,\n",
       "         16, 166, 228, 251, 251, 251, 122,   0,   0,   0,   0,   0,   0,\n",
       "          0,   0],\n",
       "       [  0,   0,   0,   0,   0,   0,   0,   0,   0,   0,   0,   0,   0,\n",
       "         62, 220, 253, 251, 251, 251, 251,  79,   0,   0,   0,   0,   0,\n",
       "          0,   0],\n",
       "       [  0,   0,   0,   0,   0,   0,   0,   0,   0,   0,   0,   0,   0,\n",
       "         79, 231, 253, 251, 251, 251, 251, 232,  77,   0,   0,   0,   0,\n",
       "          0,   0],\n",
       "       [  0,   0,   0,   0,   0,   0,   0,   0,   0,   0,   0, 145, 253,\n",
       "        253, 253, 255, 253, 253, 253, 253, 255, 108,   0,   0,   0,   0,\n",
       "          0,   0],\n",
       "       [  0,   0,   0,   0,   0,   0,   0,   0,   0,   0,   0, 144, 251,\n",
       "        251, 251, 253, 168, 107, 169, 251, 253, 189,  20,   0,   0,   0,\n",
       "          0,   0],\n",
       "       [  0,   0,   0,   0,   0,   0,   0,   0,   0,  27,  89, 236, 251,\n",
       "        235, 215, 164,  15,   6, 129, 251, 253, 251,  35,   0,   0,   0,\n",
       "          0,   0],\n",
       "       [  0,   0,   0,   0,   0,   0,   0,   0,  47, 211, 253, 251, 251,\n",
       "        142,   0,   0,   0,  37, 251, 251, 253, 251,  35,   0,   0,   0,\n",
       "          0,   0],\n",
       "       [  0,   0,   0,   0,   0,   0,   0,   0, 109, 251, 253, 251, 251,\n",
       "        142,   0,   0,   0,  11, 148, 251, 253, 251, 164,   0,   0,   0,\n",
       "          0,   0],\n",
       "       [  0,   0,   0,   0,   0,   0,   0,  11, 150, 253, 255, 211,  25,\n",
       "          0,   0,   0,   0,  11, 150, 253, 255, 211,  25,   0,   0,   0,\n",
       "          0,   0],\n",
       "       [  0,   0,   0,   0,   0,   0,   0, 140, 251, 251, 253, 107,   0,\n",
       "          0,   0,   0,   0,  37, 251, 251, 211,  46,   0,   0,   0,   0,\n",
       "          0,   0],\n",
       "       [  0,   0,   0,   0,   0,   0,   0, 190, 251, 251, 253, 128,   5,\n",
       "          0,   0,   0,   0,  37, 251, 251,  51,   0,   0,   0,   0,   0,\n",
       "          0,   0],\n",
       "       [  0,   0,   0,   0,   0,   0,   0, 115, 251, 251, 253, 188,  20,\n",
       "          0,   0,  32, 109, 129, 251, 173, 103,   0,   0,   0,   0,   0,\n",
       "          0,   0],\n",
       "       [  0,   0,   0,   0,   0,   0,   0, 217, 251, 251, 201,  30,   0,\n",
       "          0,   0,  73, 251, 251, 251,  71,   0,   0,   0,   0,   0,   0,\n",
       "          0,   0],\n",
       "       [  0,   0,   0,   0,   0,   0,   0, 166, 253, 253, 255, 149,  73,\n",
       "        150, 253, 255, 253, 253, 143,   0,   0,   0,   0,   0,   0,   0,\n",
       "          0,   0],\n",
       "       [  0,   0,   0,   0,   0,   0,   0, 140, 251, 251, 253, 251, 251,\n",
       "        251, 251, 253, 251, 230,  61,   0,   0,   0,   0,   0,   0,   0,\n",
       "          0,   0],\n",
       "       [  0,   0,   0,   0,   0,   0,   0, 190, 251, 251, 253, 251, 251,\n",
       "        251, 251, 242, 215,  55,   0,   0,   0,   0,   0,   0,   0,   0,\n",
       "          0,   0],\n",
       "       [  0,   0,   0,   0,   0,   0,   0,  21, 189, 251, 253, 251, 251,\n",
       "        251, 173, 103,   0,   0,   0,   0,   0,   0,   0,   0,   0,   0,\n",
       "          0,   0],\n",
       "       [  0,   0,   0,   0,   0,   0,   0,   0,  31, 200, 253, 251,  96,\n",
       "         71,  20,   0,   0,   0,   0,   0,   0,   0,   0,   0,   0,   0,\n",
       "          0,   0],\n",
       "       [  0,   0,   0,   0,   0,   0,   0,   0,   0,   0,   0,   0,   0,\n",
       "          0,   0,   0,   0,   0,   0,   0,   0,   0,   0,   0,   0,   0,\n",
       "          0,   0],\n",
       "       [  0,   0,   0,   0,   0,   0,   0,   0,   0,   0,   0,   0,   0,\n",
       "          0,   0,   0,   0,   0,   0,   0,   0,   0,   0,   0,   0,   0,\n",
       "          0,   0],\n",
       "       [  0,   0,   0,   0,   0,   0,   0,   0,   0,   0,   0,   0,   0,\n",
       "          0,   0,   0,   0,   0,   0,   0,   0,   0,   0,   0,   0,   0,\n",
       "          0,   0],\n",
       "       [  0,   0,   0,   0,   0,   0,   0,   0,   0,   0,   0,   0,   0,\n",
       "          0,   0,   0,   0,   0,   0,   0,   0,   0,   0,   0,   0,   0,\n",
       "          0,   0]], dtype=uint8)"
      ]
     },
     "execution_count": 4,
     "metadata": {},
     "output_type": "execute_result"
    }
   ],
   "source": [
    "mnist = sd.fetch_mldata(\"MNIST original\")\n",
    "data, target = mnist.data, mnist.target\n",
    "data[3].reshape(28, 28)"
   ]
  },
  {
   "cell_type": "markdown",
   "metadata": {},
   "source": [
    "split data in to training set (60,000 observations) and testing set (10,000)"
   ]
  },
  {
   "cell_type": "code",
   "execution_count": 5,
   "metadata": {},
   "outputs": [],
   "source": [
    "data_train, data_test, target_train, target_test = ms.train_test_split(data, target, train_size=60000, \n",
    "                                                                       test_size=10000, stratify=target)"
   ]
  },
  {
   "cell_type": "markdown",
   "metadata": {},
   "source": [
    "## display a few sample digits"
   ]
  },
  {
   "cell_type": "code",
   "execution_count": 15,
   "metadata": {},
   "outputs": [
    {
     "data": {
      "image/png": "[encoded data removed]",
      "text/plain": [
       "<Figure size 432x288 with 9 Axes>"
      ]
     },
     "metadata": {},
     "output_type": "display_data"
    }
   ],
   "source": [
    "fig, axes = plt.subplots(3, 3)\n",
    "for i in range(3):\n",
    "    for j in range(3):\n",
    "        img = data[np.random.randint(len(data))]\n",
    "        ax = axes[i][j]\n",
    "        ax.imshow(img.reshape(28, 28), cmap=plt.cm.gray_r)\n",
    "        "
   ]
  },
  {
   "cell_type": "markdown",
   "metadata": {},
   "source": [
    "# Preprocessing\n",
    "First, we'll write a function for finding the bounding box of each image"
   ]
  },
  {
   "cell_type": "code",
   "execution_count": 20,
   "metadata": {},
   "outputs": [],
   "source": [
    "def find_bbox(img):\n",
    "    \"\"\"\n",
    "    Finding bounding box of image\n",
    "    \n",
    "    Returns:\n",
    "    min_col, max_col, min_row, max_row\n",
    "    \n",
    "    \"\"\"\n",
    "    img = img.astype(float)\n",
    "    cols = np.any(img, axis=0)\n",
    "    rows = np.any(img, axis=1)\n",
    "    \n",
    "    min_col, max_col = np.where(cols)[0][[0, -1]]\n",
    "    min_row, max_row = np.where(rows)[0][[0, -1]]\n",
    "    \n",
    "    return min_col, max_col, min_row, max_row\n",
    "\n",
    "def plot_bbox(img):\n",
    "    \"\"\"\n",
    "    Plot bounding box for an image\n",
    "    \"\"\"\n",
    "    \n",
    "    min_col, max_col, min_row, max_row = find_bbox(img)\n",
    "    fig, ax = plt.subplots()\n",
    "    ax.imshow(img)\n",
    "    ax.axvline(min_col, color='r')\n",
    "    ax.axvline(max_col, color='r')\n",
    "    ax.axhline(min_row, color='r')\n",
    "    ax.axhline(max_row, color='r')\n",
    "    \n",
    "    "
   ]
  },
  {
   "cell_type": "code",
   "execution_count": 56,
   "metadata": {},
   "outputs": [
    {
     "data": {
      "image/png": "[encoded data removed]",
      "text/plain": [
       "<Figure size 432x288 with 1 Axes>"
      ]
     },
     "metadata": {},
     "output_type": "display_data"
    }
   ],
   "source": [
    "img = data_train[802].reshape(28, 28)\n",
    "plot_bbox(img)"
   ]
  },
  {
   "cell_type": "markdown",
   "metadata": {},
   "source": [
    "Now try to determine if an image is rotated.  There are many fancy ways of trying to determine if an image is skewed (eg, https://en.wikipedia.org/wiki/Image_moment#Raw_moments).  Here, we'll keep things simple and look for a rotation that yields a bounding box with the max height to width ratio."
   ]
  },
  {
   "cell_type": "code",
   "execution_count": 66,
   "metadata": {},
   "outputs": [],
   "source": [
    "def find_bbox_dimensions(img):\n",
    "    \"\"\"\n",
    "    Return bbox dimensions for image\n",
    "    \n",
    "    Returns\n",
    "    height, width\n",
    "    \n",
    "    \"\"\"\n",
    "    min_col, max_col, min_row, max_row = find_bbox(img)\n",
    "    height = max_row - min_row\n",
    "    width = max_col - min_col\n",
    "    \n",
    "    return height, width\n",
    "\n",
    "def rotate_image(img, angle=0):\n",
    "    \"\"\"\n",
    "    Rotate image by angle\n",
    "    \n",
    "    \"\"\"\n",
    "    if angle == 0:\n",
    "        return img\n",
    "    \n",
    "    pimg = PIL.Image.fromarray(img)\n",
    "    pimg = pimg.rotate(angle, resample=PIL.Image.BILINEAR)\n",
    "    img = np.array(pimg)\n",
    "\n",
    "    return img\n",
    "        \n",
    "def find_best_bbox_angle(img, min_angle=-45, max_angle=45, angle_step=5):\n",
    "    \"\"\"\n",
    "    Find angle that results in a bbox with the highest height to width ratio\n",
    "    \n",
    "    \"\"\"\n",
    "    res = dict()\n",
    "    for angle in range(min_angle, max_angle + angle_step, angle_step):\n",
    "        rotated = rotate_image(img, angle)\n",
    "        height, width = find_bbox_dimensions(rotated)\n",
    "        res[angle] = height / width\n",
    "    \n",
    "    best_angle = max(res, key=res.get)\n",
    "    \n",
    "    # don't bother rotating if best angle is not much better than no rotation\n",
    "    if (res[best_angle] / res[0]) < 1.1:\n",
    "        best_angle = 0\n",
    "\n",
    "    return best_angle\n",
    "\n"
   ]
  },
  {
   "cell_type": "markdown",
   "metadata": {},
   "source": [
    "Now let's see how this sample image looks after we \"deskew\" it"
   ]
  },
  {
   "cell_type": "code",
   "execution_count": 67,
   "metadata": {},
   "outputs": [
    {
     "name": "stdout",
     "output_type": "stream",
     "text": [
      "best rotation angle: 20%\n"
     ]
    },
    {
     "data": {
      "image/png": "[encoded data removed]",
      "text/plain": [
       "<Figure size 432x288 with 1 Axes>"
      ]
     },
     "metadata": {},
     "output_type": "display_data"
    }
   ],
   "source": [
    "img = data_train[802].reshape(28, 28)\n",
    "best_angle = find_best_bbox_angle(img)\n",
    "print(\"best rotation angle: {}%\".format(best_angle))\n",
    "plot_bbox(rotate_image(img, best_angle))"
   ]
  },
  {
   "cell_type": "code",
   "execution_count": 41,
   "metadata": {},
   "outputs": [
    {
     "data": {
      "text/plain": [
       "25"
      ]
     },
     "execution_count": 41,
     "metadata": {},
     "output_type": "execute_result"
    }
   ],
   "source": [
    "max(res, key=res.get)\n"
   ]
  },
  {
   "cell_type": "code",
   "execution_count": 16,
   "metadata": {},
   "outputs": [],
   "source": [
    "from sklearn.linear_model import SGDClassifier\n",
    "clf = SGDClassifier()"
   ]
  },
  {
   "cell_type": "code",
   "execution_count": 17,
   "metadata": {},
   "outputs": [
    {
     "name": "stderr",
     "output_type": "stream",
     "text": [
      "/anaconda3/envs/notebook/lib/python3.6/site-packages/sklearn/linear_model/stochastic_gradient.py:128: FutureWarning: max_iter and tol parameters have been added in <class 'sklearn.linear_model.stochastic_gradient.SGDClassifier'> in 0.19. If both are left unset, they default to max_iter=5 and tol=None. If tol is not None, max_iter defaults to max_iter=1000. From 0.21, default max_iter will be 1000, and default tol will be 1e-3.\n",
      "  \"and default tol will be 1e-3.\" % type(self), FutureWarning)\n"
     ]
    },
    {
     "data": {
      "text/plain": [
       "SGDClassifier(alpha=0.0001, average=False, class_weight=None, epsilon=0.1,\n",
       "       eta0=0.0, fit_intercept=True, l1_ratio=0.15,\n",
       "       learning_rate='optimal', loss='hinge', max_iter=None, n_iter=None,\n",
       "       n_jobs=1, penalty='l2', power_t=0.5, random_state=None,\n",
       "       shuffle=True, tol=None, verbose=0, warm_start=False)"
      ]
     },
     "execution_count": 17,
     "metadata": {},
     "output_type": "execute_result"
    }
   ],
   "source": [
    "clf.fit(data_train, target_train)"
   ]
  },
  {
   "cell_type": "code",
   "execution_count": 18,
   "metadata": {},
   "outputs": [
    {
     "data": {
      "text/plain": [
       "0.8689"
      ]
     },
     "execution_count": 18,
     "metadata": {},
     "output_type": "execute_result"
    }
   ],
   "source": [
    "clf.score(data_test, target_test)"
   ]
  },
  {
   "cell_type": "markdown",
   "metadata": {},
   "source": [
    "# Data augmentation"
   ]
  },
  {
   "cell_type": "code",
   "execution_count": null,
   "metadata": {},
   "outputs": [],
   "source": [
    "import PIL"
   ]
  },
  {
   "cell_type": "code",
   "execution_count": null,
   "metadata": {},
   "outputs": [],
   "source": [
    "sample = data_train[34222].reshape(28, 28)\n",
    "img = PIL.Image.fromarray(sample)\n",
    "plt.imshow(img)"
   ]
  },
  {
   "cell_type": "code",
   "execution_count": null,
   "metadata": {},
   "outputs": [],
   "source": [
    "plt.imshow(sample)"
   ]
  },
  {
   "cell_type": "code",
   "execution_count": null,
   "metadata": {},
   "outputs": [],
   "source": []
  },
  {
   "cell_type": "markdown",
   "metadata": {},
   "source": [
    "# Deskewing images"
   ]
  },
  {
   "cell_type": "code",
   "execution_count": null,
   "metadata": {},
   "outputs": [],
   "source": [
    "def raw_moment(data, i_order, j_order):\n",
    "  nrows, ncols = data.shape\n",
    "  y_indices, x_indicies = np.mgrid[:nrows, :ncols]\n",
    "  return (data * x_indicies**i_order * y_indices**j_order).sum()\n",
    "\n",
    "def moments_cov(data):\n",
    "  data_sum = data.sum()\n",
    "  m10 = raw_moment(data, 1, 0)\n",
    "  m01 = raw_moment(data, 0, 1)\n",
    "  x_centroid = m10 / data_sum\n",
    "  y_centroid = m01 / data_sum\n",
    "  u11 = (raw_moment(data, 1, 1) - x_centroid * m01) / data_sum\n",
    "  u20 = (raw_moment(data, 2, 0) - x_centroid * m10) / data_sum\n",
    "  u02 = (raw_moment(data, 0, 2) - y_centroid * m01) / data_sum\n",
    "  cov = np.array([[u20, u11], [u11, u02]])\n",
    "  return cov\n",
    "\n",
    "def determine_image_skew(data):\n",
    "    cov = moments_cov(data)\n",
    "    evals, evecs = sl.eigh(cov)\n",
    "    \n",
    "    x_v1, y_v1 = evecs[:, 1]  # Eigenvector with largest eigenvalue\n",
    "    x_v2, y_v2 = evecs[:, 0]\n",
    "    theta = np.tanh((x_v1)/(y_v1))\n",
    "    \n",
    "    return theta\n",
    "\n",
    "def deskew_image(img):\n",
    "    angle = determine_image_skew(img)\n",
    "    pimg = PIL.Image.fromarray(img)\n",
    "    pimg = pimg.rotate(-100 * angle)\n",
    "    img = np.array(pimg)\n",
    "    return img\n",
    "\n"
   ]
  },
  {
   "cell_type": "code",
   "execution_count": null,
   "metadata": {},
   "outputs": [],
   "source": []
  },
  {
   "cell_type": "code",
   "execution_count": null,
   "metadata": {},
   "outputs": [],
   "source": []
  },
  {
   "cell_type": "code",
   "execution_count": null,
   "metadata": {},
   "outputs": [],
   "source": [
    "angle = determine_image_skew(sample)\n",
    "angle"
   ]
  },
  {
   "cell_type": "code",
   "execution_count": null,
   "metadata": {},
   "outputs": [],
   "source": [
    "angle"
   ]
  },
  {
   "cell_type": "code",
   "execution_count": null,
   "metadata": {},
   "outputs": [],
   "source": [
    "plt.imshow(sample)\n"
   ]
  },
  {
   "cell_type": "code",
   "execution_count": null,
   "metadata": {},
   "outputs": [],
   "source": [
    "plt.imshow(deskew_image(deskew_image(sample)))"
   ]
  },
  {
   "cell_type": "code",
   "execution_count": null,
   "metadata": {},
   "outputs": [],
   "source": []
  },
  {
   "cell_type": "code",
   "execution_count": null,
   "metadata": {},
   "outputs": [],
   "source": []
  }
 ],
 "metadata": {
  "kernelspec": {
   "display_name": "Python [conda env:notebook]",
   "language": "python",
   "name": "conda-env-notebook-py"
  },
  "language_info": {
   "codemirror_mode": {
    "name": "ipython",
    "version": 3
   },
   "file_extension": ".py",
   "mimetype": "text/x-python",
   "name": "python",
   "nbconvert_exporter": "python",
   "pygments_lexer": "ipython3",
   "version": "3.6.5"
  }
 },
 "nbformat": 4,
 "nbformat_minor": 2
}
